{
  "nbformat": 4,
  "nbformat_minor": 0,
  "metadata": {
    "colab": {
      "name": "Untitled8.ipynb",
      "provenance": [],
      "authorship_tag": "ABX9TyOsKuXWDpCiCjjHRqkQPEDn",
      "include_colab_link": true
    },
    "kernelspec": {
      "name": "python3",
      "display_name": "Python 3"
    },
    "accelerator": "GPU"
  },
  "cells": [
    {
      "cell_type": "markdown",
      "metadata": {
        "id": "view-in-github",
        "colab_type": "text"
      },
      "source": [
        "<a href=\"https://colab.research.google.com/github/clementsiegrist/projet_vision/blob/main/enfer.ipynb\" target=\"_parent\"><img src=\"https://colab.research.google.com/assets/colab-badge.svg\" alt=\"Open In Colab\"/></a>"
      ]
    },
    {
      "cell_type": "code",
      "metadata": {
        "colab": {
          "base_uri": "https://localhost:8080/"
        },
        "id": "CAr1Met3_H_5",
        "outputId": "92282d34-14ab-4668-fb23-5cbc9296d26c"
      },
      "source": [
        "!git clone https://github.com/clementsiegrist/projet_vision.git"
      ],
      "execution_count": 1,
      "outputs": [
        {
          "output_type": "stream",
          "text": [
            "Cloning into 'projet_vision'...\n",
            "remote: Enumerating objects: 77, done.\u001b[K\n",
            "remote: Counting objects: 100% (77/77), done.\u001b[K\n",
            "remote: Compressing objects: 100% (62/62), done.\u001b[K\n",
            "remote: Total 77 (delta 13), reused 70 (delta 12), pack-reused 0\u001b[K\n",
            "Unpacking objects: 100% (77/77), done.\n"
          ],
          "name": "stdout"
        }
      ]
    },
    {
      "cell_type": "code",
      "metadata": {
        "id": "KzxqlqpzABm6"
      },
      "source": [
        "#192.168.1.16."
      ],
      "execution_count": null,
      "outputs": []
    },
    {
      "cell_type": "code",
      "metadata": {
        "colab": {
          "base_uri": "https://localhost:8080/"
        },
        "id": "7sPZZbmtBYMb",
        "outputId": "7a886796-0d10-4f61-846f-43660f711cd9"
      },
      "source": [
        "%cd /content/file_/"
      ],
      "execution_count": 2,
      "outputs": [
        {
          "output_type": "stream",
          "text": [
            "/content/file_\n"
          ],
          "name": "stdout"
        }
      ]
    },
    {
      "cell_type": "code",
      "metadata": {
        "colab": {
          "base_uri": "https://localhost:8080/"
        },
        "id": "B2a5oCbkIP_h",
        "outputId": "37b2baa7-5316-4e95-e492-298a2246dd22"
      },
      "source": [
        "%cd .."
      ],
      "execution_count": 26,
      "outputs": [
        {
          "output_type": "stream",
          "text": [
            "/content\n"
          ],
          "name": "stdout"
        }
      ]
    },
    {
      "cell_type": "code",
      "metadata": {
        "colab": {
          "base_uri": "https://localhost:8080/"
        },
        "id": "uQVkThHTBc1W",
        "outputId": "5c2872b2-b8d8-4147-e8b0-f9ef1d049963"
      },
      "source": [
        "!ls"
      ],
      "execution_count": 7,
      "outputs": [
        {
          "output_type": "stream",
          "text": [
            "data\t       __init__.py  monoport  requirements.txt\tscene.py  templates\n",
            "dataloader.py  main.py\t    recon.py  run_camera.py\tscripts\n"
          ],
          "name": "stdout"
        }
      ]
    },
    {
      "cell_type": "code",
      "metadata": {
        "colab": {
          "base_uri": "https://localhost:8080/"
        },
        "id": "nKaeP-PACrch",
        "outputId": "1d04cef5-0455-4fc4-9877-135a071d6ea5"
      },
      "source": [
        "!sh scripts/download_model.sh"
      ],
      "execution_count": 3,
      "outputs": [
        {
          "output_type": "stream",
          "text": [
            "--2021-01-23 16:23:32--  https://drive.google.com/uc?export=download&id=1zEmVXG2VHy0MMzngcRshB4D8Sr_oLHsm\n",
            "Resolving drive.google.com (drive.google.com)... 74.125.197.113, 74.125.197.101, 74.125.197.100, ...\n",
            "Connecting to drive.google.com (drive.google.com)|74.125.197.113|:443... connected.\n",
            "HTTP request sent, awaiting response... 302 Moved Temporarily\n",
            "Location: https://doc-14-0o-docs.googleusercontent.com/docs/securesc/ha0ro937gcuc7l7deffksulhg5h7mbp1/49616b501v2fhkibl4kb6hag61ks2f5l/1611418950000/14428417455748421393/*/1zEmVXG2VHy0MMzngcRshB4D8Sr_oLHsm?e=download [following]\n",
            "Warning: wildcards not supported in HTTP.\n",
            "--2021-01-23 16:23:34--  https://doc-14-0o-docs.googleusercontent.com/docs/securesc/ha0ro937gcuc7l7deffksulhg5h7mbp1/49616b501v2fhkibl4kb6hag61ks2f5l/1611418950000/14428417455748421393/*/1zEmVXG2VHy0MMzngcRshB4D8Sr_oLHsm?e=download\n",
            "Resolving doc-14-0o-docs.googleusercontent.com (doc-14-0o-docs.googleusercontent.com)... 74.125.195.132, 2607:f8b0:400e:c09::84\n",
            "Connecting to doc-14-0o-docs.googleusercontent.com (doc-14-0o-docs.googleusercontent.com)|74.125.195.132|:443... connected.\n",
            "HTTP request sent, awaiting response... 200 OK\n",
            "Length: unspecified [application/octet-stream]\n",
            "Saving to: ‘net_G’\n",
            "\n",
            "net_G                   [  <=>               ]  59.61M   185MB/s    in 0.3s    \n",
            "\n",
            "2021-01-23 16:23:35 (185 MB/s) - ‘net_G’ saved [62510909]\n",
            "\n",
            "--2021-01-23 16:23:35--  https://drive.google.com/uc?export=download&id=1V83B6GDIjYMfHdpg-KcCSAPgHxpafHgd\n",
            "Resolving drive.google.com (drive.google.com)... 74.125.20.100, 74.125.20.113, 74.125.20.102, ...\n",
            "Connecting to drive.google.com (drive.google.com)|74.125.20.100|:443... connected.\n",
            "HTTP request sent, awaiting response... 302 Moved Temporarily\n",
            "Location: https://doc-00-0o-docs.googleusercontent.com/docs/securesc/ha0ro937gcuc7l7deffksulhg5h7mbp1/8b5i2kv98agf8bnto10ujfcegjt45g82/1611418950000/14428417455748421393/*/1V83B6GDIjYMfHdpg-KcCSAPgHxpafHgd?e=download [following]\n",
            "Warning: wildcards not supported in HTTP.\n",
            "--2021-01-23 16:23:36--  https://doc-00-0o-docs.googleusercontent.com/docs/securesc/ha0ro937gcuc7l7deffksulhg5h7mbp1/8b5i2kv98agf8bnto10ujfcegjt45g82/1611418950000/14428417455748421393/*/1V83B6GDIjYMfHdpg-KcCSAPgHxpafHgd?e=download\n",
            "Resolving doc-00-0o-docs.googleusercontent.com (doc-00-0o-docs.googleusercontent.com)... 74.125.195.132, 2607:f8b0:400e:c09::84\n",
            "Connecting to doc-00-0o-docs.googleusercontent.com (doc-00-0o-docs.googleusercontent.com)|74.125.195.132|:443... connected.\n",
            "HTTP request sent, awaiting response... 200 OK\n",
            "Length: unspecified [application/octet-stream]\n",
            "Saving to: ‘net_C’\n",
            "\n",
            "net_C                   [  <=>               ]  34.88M  87.2MB/s    in 0.4s    \n",
            "\n",
            "2021-01-23 16:23:37 (87.2 MB/s) - ‘net_C’ saved [36570643]\n",
            "\n"
          ],
          "name": "stdout"
        }
      ]
    },
    {
      "cell_type": "markdown",
      "metadata": {
        "id": "ldkM1gEYBURu"
      },
      "source": [
        ""
      ]
    },
    {
      "cell_type": "code",
      "metadata": {
        "colab": {
          "base_uri": "https://localhost:8080/"
        },
        "id": "i2eEGJxdANS0",
        "outputId": "9bad7d6f-0437-491d-d57b-a7107ee3ce27"
      },
      "source": [
        "!pip install -r requirements.txt"
      ],
      "execution_count": 6,
      "outputs": [
        {
          "output_type": "stream",
          "text": [
            "Requirement already satisfied: numpy in /usr/local/lib/python3.6/dist-packages (from -r requirements.txt (line 1)) (1.19.5)\n",
            "Requirement already satisfied: Pillow in /usr/local/lib/python3.6/dist-packages (from -r requirements.txt (line 2)) (7.0.0)\n",
            "Requirement already satisfied: flask in /usr/local/lib/python3.6/dist-packages (from -r requirements.txt (line 3)) (1.1.2)\n",
            "Requirement already satisfied: scikit-image in /usr/local/lib/python3.6/dist-packages (from -r requirements.txt (line 4)) (0.16.2)\n",
            "Requirement already satisfied: opencv-python in /usr/local/lib/python3.6/dist-packages (from -r requirements.txt (line 5)) (4.1.2.30)\n",
            "Requirement already satisfied: tqdm in /usr/local/lib/python3.6/dist-packages (from -r requirements.txt (line 6)) (4.41.1)\n",
            "Requirement already satisfied: imageio in /usr/local/lib/python3.6/dist-packages (from -r requirements.txt (line 7)) (2.4.1)\n",
            "Collecting yacs\n",
            "  Downloading yacs-0.1.8-py3-none-any.whl (14 kB)\n",
            "Requirement already satisfied: pyopengl in /usr/local/lib/python3.6/dist-packages (from -r requirements.txt (line 9)) (3.1.5)\n",
            "Collecting imageio-ffmpeg\n",
            "  Downloading imageio_ffmpeg-0.4.3-py3-none-manylinux2010_x86_64.whl (26.9 MB)\n",
            "\u001b[K     |████████████████████████████████| 26.9 MB 91 kB/s \n",
            "\u001b[?25hCollecting human-det@ git+https://github.com/Project-Splinter/human_det\n",
            "  Cloning https://github.com/Project-Splinter/human_det to /tmp/pip-install-woeqcsna/human-det\n",
            "Collecting human-inst-seg@ git+https://github.com/Project-Splinter/human_inst_seg\n",
            "  Cloning https://github.com/Project-Splinter/human_inst_seg to /tmp/pip-install-woeqcsna/human-inst-seg\n",
            "Collecting implicit-seg@ git+https://github.com/Project-Splinter/ImplicitSegCUDA\n",
            "  Cloning https://github.com/Project-Splinter/ImplicitSegCUDA to /tmp/pip-install-woeqcsna/implicit-seg\n",
            "Collecting streamer-pytorch@ git+https://github.com/Project-Splinter/streamer_pytorch\n",
            "  Cloning https://github.com/Project-Splinter/streamer_pytorch to /tmp/pip-install-woeqcsna/streamer-pytorch\n",
            "Requirement already satisfied: Jinja2>=2.10.1 in /usr/local/lib/python3.6/dist-packages (from flask->-r requirements.txt (line 3)) (2.11.2)\n",
            "Requirement already satisfied: Werkzeug>=0.15 in /usr/local/lib/python3.6/dist-packages (from flask->-r requirements.txt (line 3)) (1.0.1)\n",
            "Requirement already satisfied: itsdangerous>=0.24 in /usr/local/lib/python3.6/dist-packages (from flask->-r requirements.txt (line 3)) (1.1.0)\n",
            "Requirement already satisfied: click>=5.1 in /usr/local/lib/python3.6/dist-packages (from flask->-r requirements.txt (line 3)) (7.1.2)\n",
            "Requirement already satisfied: matplotlib!=3.0.0,>=2.0.0 in /usr/local/lib/python3.6/dist-packages (from scikit-image->-r requirements.txt (line 4)) (3.2.2)\n",
            "Requirement already satisfied: scipy>=0.19.0 in /usr/local/lib/python3.6/dist-packages (from scikit-image->-r requirements.txt (line 4)) (1.4.1)\n",
            "Requirement already satisfied: networkx>=2.0 in /usr/local/lib/python3.6/dist-packages (from scikit-image->-r requirements.txt (line 4)) (2.5)\n",
            "Requirement already satisfied: PyWavelets>=0.4.0 in /usr/local/lib/python3.6/dist-packages (from scikit-image->-r requirements.txt (line 4)) (1.1.1)\n",
            "Requirement already satisfied: PyYAML in /usr/local/lib/python3.6/dist-packages (from yacs->-r requirements.txt (line 8)) (3.13)\n",
            "Requirement already satisfied: torch in /usr/local/lib/python3.6/dist-packages (from human-det@ git+https://github.com/Project-Splinter/human_det->-r requirements.txt (line 11)) (1.7.1+cu101)\n",
            "Requirement already satisfied: torchvision in /usr/local/lib/python3.6/dist-packages (from human-det@ git+https://github.com/Project-Splinter/human_det->-r requirements.txt (line 11)) (0.8.2+cu101)\n",
            "Collecting segmentation_models_pytorch@ git+https://github.com/qubvel/segmentation_models.pytorch\n",
            "  Cloning https://github.com/qubvel/segmentation_models.pytorch to /tmp/pip-install-woeqcsna/segmentation-models-pytorch\n",
            "Requirement already satisfied: MarkupSafe>=0.23 in /usr/local/lib/python3.6/dist-packages (from Jinja2>=2.10.1->flask->-r requirements.txt (line 3)) (1.1.1)\n",
            "Requirement already satisfied: cycler>=0.10 in /usr/local/lib/python3.6/dist-packages (from matplotlib!=3.0.0,>=2.0.0->scikit-image->-r requirements.txt (line 4)) (0.10.0)\n",
            "Requirement already satisfied: pyparsing!=2.0.4,!=2.1.2,!=2.1.6,>=2.0.1 in /usr/local/lib/python3.6/dist-packages (from matplotlib!=3.0.0,>=2.0.0->scikit-image->-r requirements.txt (line 4)) (2.4.7)\n",
            "Requirement already satisfied: kiwisolver>=1.0.1 in /usr/local/lib/python3.6/dist-packages (from matplotlib!=3.0.0,>=2.0.0->scikit-image->-r requirements.txt (line 4)) (1.3.1)\n",
            "Requirement already satisfied: python-dateutil>=2.1 in /usr/local/lib/python3.6/dist-packages (from matplotlib!=3.0.0,>=2.0.0->scikit-image->-r requirements.txt (line 4)) (2.8.1)\n",
            "Requirement already satisfied: decorator>=4.3.0 in /usr/local/lib/python3.6/dist-packages (from networkx>=2.0->scikit-image->-r requirements.txt (line 4)) (4.4.2)\n",
            "Requirement already satisfied: typing-extensions in /usr/local/lib/python3.6/dist-packages (from torch->human-det@ git+https://github.com/Project-Splinter/human_det->-r requirements.txt (line 11)) (3.7.4.3)\n",
            "Requirement already satisfied: dataclasses; python_version < \"3.7\" in /usr/local/lib/python3.6/dist-packages (from torch->human-det@ git+https://github.com/Project-Splinter/human_det->-r requirements.txt (line 11)) (0.8)\n",
            "Collecting pretrainedmodels==0.7.4\n",
            "  Downloading pretrainedmodels-0.7.4.tar.gz (58 kB)\n",
            "\u001b[K     |████████████████████████████████| 58 kB 8.5 MB/s \n",
            "\u001b[?25hCollecting efficientnet-pytorch==0.6.3\n",
            "  Downloading efficientnet_pytorch-0.6.3.tar.gz (16 kB)\n",
            "Collecting timm==0.3.2\n",
            "  Downloading timm-0.3.2-py3-none-any.whl (244 kB)\n",
            "\u001b[K     |████████████████████████████████| 244 kB 70.2 MB/s \n",
            "\u001b[?25hRequirement already satisfied: six in /usr/local/lib/python3.6/dist-packages (from cycler>=0.10->matplotlib!=3.0.0,>=2.0.0->scikit-image->-r requirements.txt (line 4)) (1.15.0)\n",
            "Collecting munch\n",
            "  Downloading munch-2.5.0-py2.py3-none-any.whl (10 kB)\n",
            "Building wheels for collected packages: human-det, human-inst-seg, implicit-seg, streamer-pytorch, segmentation-models-pytorch, pretrainedmodels, efficientnet-pytorch\n",
            "  Building wheel for human-det (setup.py) ... \u001b[?25l\u001b[?25hdone\n",
            "  Created wheel for human-det: filename=human_det-0.0.2-py3-none-any.whl size=10451 sha256=b94a1079be5cc0ce1b66755b0e9718d63c20cc4d2b82144beceaafab752ee9a8\n",
            "  Stored in directory: /tmp/pip-ephem-wheel-cache-4a_35ol3/wheels/c4/ac/18/6c9c92e8751e91221a86d328279fa6c30dfb4372bb63d4199b\n",
            "  Building wheel for human-inst-seg (setup.py) ... \u001b[?25l\u001b[?25hdone\n",
            "  Created wheel for human-inst-seg: filename=human_inst_seg-0.0.2-py3-none-any.whl size=7959 sha256=0f0ecb611d696e7c55920f5029046470725fa179859e8e1d088cd744747aec09\n",
            "  Stored in directory: /tmp/pip-ephem-wheel-cache-4a_35ol3/wheels/5d/19/30/07569a9a41154b6485d6802c16e257eaf6b20f83e7be8c25b9\n",
            "  Building wheel for implicit-seg (setup.py) ... \u001b[?25l\u001b[?25hdone\n",
            "  Created wheel for implicit-seg: filename=implicit_seg-0.0.2-cp36-cp36m-linux_x86_64.whl size=3785595 sha256=927e91c1ea12a68c185b690290f64084fdae045be08fe396d6330c75afe8bbfa\n",
            "  Stored in directory: /tmp/pip-ephem-wheel-cache-4a_35ol3/wheels/4a/37/73/04df9f56a621735cd50c7eca6fb7b2a1011b9fe289832ebf86\n",
            "  Building wheel for streamer-pytorch (setup.py) ... \u001b[?25l\u001b[?25hdone\n",
            "  Created wheel for streamer-pytorch: filename=streamer_pytorch-0.0.2-py3-none-any.whl size=3774 sha256=7ad741654710926a9dea45663e0ad300c71377307bbf82bb8605469088ceb6d8\n",
            "  Stored in directory: /tmp/pip-ephem-wheel-cache-4a_35ol3/wheels/28/14/cf/0511f961e7b5127ff7b9e23c2b46c46905dce0d3716f641e5a\n",
            "  Building wheel for segmentation-models-pytorch (setup.py) ... \u001b[?25l\u001b[?25hdone\n",
            "  Created wheel for segmentation-models-pytorch: filename=segmentation_models_pytorch-0.1.3-py3-none-any.whl size=83181 sha256=854e49025291445b3262a65381e2cb776d7be6c1ca6c568556d0481c9ed121b0\n",
            "  Stored in directory: /tmp/pip-ephem-wheel-cache-4a_35ol3/wheels/53/e5/fc/18292d80d3c0f4efc96cbbb72625fdbafdca303997bacfb085\n",
            "  Building wheel for pretrainedmodels (setup.py) ... \u001b[?25l\u001b[?25hdone\n",
            "  Created wheel for pretrainedmodels: filename=pretrainedmodels-0.7.4-py3-none-any.whl size=60963 sha256=7e108d84e8624aa4678efa139ce45dd0cfa693b6e590a01559a057615abf3591\n",
            "  Stored in directory: /root/.cache/pip/wheels/9c/03/81/494596f1d017bbf80daf53bc33dbb05aaa5a6ad6d44c74011f\n",
            "  Building wheel for efficientnet-pytorch (setup.py) ... \u001b[?25l\u001b[?25hdone\n",
            "  Created wheel for efficientnet-pytorch: filename=efficientnet_pytorch-0.6.3-py3-none-any.whl size=12419 sha256=036e01565d0a642273f8122807892a7a2aecead60d5139a3d62df1303a3993dc\n",
            "  Stored in directory: /root/.cache/pip/wheels/1c/07/d1/ff77968842daae1dde944173a8e8a7be193646d37842f13b24\n",
            "Successfully built human-det human-inst-seg implicit-seg streamer-pytorch segmentation-models-pytorch pretrainedmodels efficientnet-pytorch\n",
            "Installing collected packages: yacs, imageio-ffmpeg, human-det, munch, pretrainedmodels, efficientnet-pytorch, timm, segmentation-models-pytorch, human-inst-seg, implicit-seg, streamer-pytorch\n",
            "Successfully installed efficientnet-pytorch-0.6.3 human-det-0.0.2 human-inst-seg-0.0.2 imageio-ffmpeg-0.4.3 implicit-seg-0.0.2 munch-2.5.0 pretrainedmodels-0.7.4 segmentation-models-pytorch-0.1.3 streamer-pytorch-0.0.2 timm-0.3.2 yacs-0.1.8\n"
          ],
          "name": "stdout"
        }
      ]
    },
    {
      "cell_type": "code",
      "metadata": {
        "colab": {
          "base_uri": "https://localhost:8080/"
        },
        "id": "dq2ilkFAI2Ut",
        "outputId": "07d9a086-fa5b-402c-d12b-741a0250073f"
      },
      "source": [
        "!nvidia-smi"
      ],
      "execution_count": 7,
      "outputs": [
        {
          "output_type": "stream",
          "text": [
            "Sat Jan 23 16:32:23 2021       \n",
            "+-----------------------------------------------------------------------------+\n",
            "| NVIDIA-SMI 460.32.03    Driver Version: 418.67       CUDA Version: 10.1     |\n",
            "|-------------------------------+----------------------+----------------------+\n",
            "| GPU  Name        Persistence-M| Bus-Id        Disp.A | Volatile Uncorr. ECC |\n",
            "| Fan  Temp  Perf  Pwr:Usage/Cap|         Memory-Usage | GPU-Util  Compute M. |\n",
            "|                               |                      |               MIG M. |\n",
            "|===============================+======================+======================|\n",
            "|   0  Tesla T4            Off  | 00000000:00:04.0 Off |                    0 |\n",
            "| N/A   36C    P8    11W /  70W |      0MiB / 15079MiB |      0%      Default |\n",
            "|                               |                      |                 ERR! |\n",
            "+-------------------------------+----------------------+----------------------+\n",
            "                                                                               \n",
            "+-----------------------------------------------------------------------------+\n",
            "| Processes:                                                                  |\n",
            "|  GPU   GI   CI        PID   Type   Process name                  GPU Memory |\n",
            "|        ID   ID                                                   Usage      |\n",
            "|=============================================================================|\n",
            "|  No running processes found                                                 |\n",
            "+-----------------------------------------------------------------------------+\n"
          ],
          "name": "stdout"
        }
      ]
    },
    {
      "cell_type": "code",
      "metadata": {
        "colab": {
          "base_uri": "https://localhost:8080/"
        },
        "id": "pzkZiStbC6a3",
        "outputId": "36bdcbe3-9bc4-4794-bd6b-4a0f26253d6b"
      },
      "source": [
        "!python main.py --use_server --ip 192.168.1.16. --port 5555 --image_folder /content/img_folder -- netG.ckpt_path file_/data/PIFu/net_G netC.ckpt_path file_/data/PIFu/net_C"
      ],
      "execution_count": 66,
      "outputs": [
        {
          "output_type": "stream",
          "text": [
            "initialize data streamer ...\n",
            "Downloading: \"https://download.pytorch.org/models/resnet18-5c106cde.pth\" to /root/.cache/torch/hub/checkpoints/resnet18-5c106cde.pth\n",
            "100% 44.7M/44.7M [00:00<00:00, 133MB/s] \n",
            "Downloading: \"https://github.com/NVIDIA/DeepLearningExamples/archive/torchhub.zip\" to /root/.cache/torch/hub/torchhub.zip\n",
            "Using cache found in /root/.cache/torch/hub/NVIDIA_DeepLearningExamples_torchhub\n",
            "Downloading: \"https://download.pytorch.org/models/resnet50-19c8e357.pth\" to /root/.cache/torch/hub/checkpoints/resnet50-19c8e357.pth\n",
            "100% 97.8M/97.8M [00:01<00:00, 68.4MB/s]\n",
            "Downloading checkpoint from https://api.ngc.nvidia.com/v2/models/nvidia/ssd_pyt_ckpt_amp/versions/19.09.0/files/nvidia_ssdpyt_fp16_190826.pt\n",
            "Downloading: \"https://drive.google.com/uc?export=download&id=18d2yeCx62Gup-YzgsI866uxpEo9kIl2T\" to /root/.cache/torch/hub/checkpoints/uc\n",
            "54.7MB [00:00, 174MB/s] \n",
            "Traceback (most recent call last):\n",
            "  File \"main.py\", line 232, in <module>\n",
            "    scene = MonoPortScene(size=(256, 256))\n",
            "  File \"/content/file_/scene.py\", line 99, in __init__\n",
            "    self.vert_data, self.uv_data, self.texture_image = _load_floor()\n",
            "  File \"/content/file_/scene.py\", line 28, in _load_floor\n",
            "    mesh_file, with_normal=True, with_texture=True)\n",
            "  File \"/content/file_/monoport/lib/mesh_util.py\", line 99, in load_obj_mesh\n",
            "    f = open(mesh_file, \"r\")\n",
            "FileNotFoundError: [Errno 2] No such file or directory: '/content/file_/floor/grass/grass.obj'\n"
          ],
          "name": "stdout"
        }
      ]
    },
    {
      "cell_type": "code",
      "metadata": {
        "colab": {
          "base_uri": "https://localhost:8080/"
        },
        "id": "eM6ck-xIP8x6",
        "outputId": "2e8e07ce-c504-44c6-84cc-cb86b38b62eb"
      },
      "source": [
        ""
      ],
      "execution_count": 41,
      "outputs": [
        {
          "output_type": "stream",
          "text": [
            "\u001b[31mERROR: Could not find a version that satisfies the requirement collections (from versions: none)\u001b[0m\n",
            "\u001b[31mERROR: No matching distribution found for collections\u001b[0m\n"
          ],
          "name": "stdout"
        }
      ]
    },
    {
      "cell_type": "code",
      "metadata": {
        "colab": {
          "base_uri": "https://localhost:8080/"
        },
        "id": "i-3zpeENT3gd",
        "outputId": "798a1bd1-4345-4214-fce7-bc5984a33beb"
      },
      "source": [
        "!pip install light-the-torch\n",
        "!ltt install torch torchvision"
      ],
      "execution_count": 5,
      "outputs": [
        {
          "output_type": "stream",
          "text": [
            "Collecting light-the-torch\n",
            "  Downloading https://files.pythonhosted.org/packages/f8/8a/83f4f28dd40c59e800f6c416de211a2dd00ecf0e1382d4999a275fd76c6f/light_the_torch-0.2.2-py3-none-any.whl\n",
            "Collecting pip<20.3.*,>=20.1.*\n",
            "\u001b[?25l  Downloading https://files.pythonhosted.org/packages/cb/28/91f26bd088ce8e22169032100d4260614fc3da435025ff389ef1d396a433/pip-20.2.4-py2.py3-none-any.whl (1.5MB)\n",
            "\u001b[K     |████████████████████████████████| 1.5MB 10.9MB/s \n",
            "\u001b[?25hInstalling collected packages: pip, light-the-torch\n",
            "  Found existing installation: pip 19.3.1\n",
            "    Uninstalling pip-19.3.1:\n",
            "      Successfully uninstalled pip-19.3.1\n",
            "Successfully installed light-the-torch-0.2.2 pip-20.2.4\n",
            "Collecting torch==1.7.1+cu101\n",
            "  Downloading https://download.pytorch.org/whl/cu101/torch-1.7.1%2Bcu101-cp36-cp36m-linux_x86_64.whl (735.4 MB)\n",
            "\u001b[K     |████████████████████████████████| 735.4 MB 12 kB/s \n",
            "\u001b[?25hCollecting torchvision==0.8.2+cu101\n",
            "  Downloading https://download.pytorch.org/whl/cu101/torchvision-0.8.2%2Bcu101-cp36-cp36m-linux_x86_64.whl (12.8 MB)\n",
            "\u001b[K     |████████████████████████████████| 12.8 MB 38.9 MB/s \n",
            "\u001b[?25hRequirement already satisfied: numpy in /usr/local/lib/python3.6/dist-packages (from torch==1.7.1+cu101) (1.19.5)\n",
            "Requirement already satisfied: typing-extensions in /usr/local/lib/python3.6/dist-packages (from torch==1.7.1+cu101) (3.7.4.3)\n",
            "Requirement already satisfied: dataclasses; python_version < \"3.7\" in /usr/local/lib/python3.6/dist-packages (from torch==1.7.1+cu101) (0.8)\n",
            "Requirement already satisfied: pillow>=4.1.1 in /usr/local/lib/python3.6/dist-packages (from torchvision==0.8.2+cu101) (7.0.0)\n",
            "Installing collected packages: torch, torchvision\n",
            "  Attempting uninstall: torch\n",
            "    Found existing installation: torch 1.7.0+cu101\n",
            "    Uninstalling torch-1.7.0+cu101:\n",
            "      Successfully uninstalled torch-1.7.0+cu101\n",
            "  Attempting uninstall: torchvision\n",
            "    Found existing installation: torchvision 0.8.1+cu101\n",
            "    Uninstalling torchvision-0.8.1+cu101:\n",
            "      Successfully uninstalled torchvision-0.8.1+cu101\n",
            "Successfully installed torch-1.7.1+cu101 torchvision-0.8.2+cu101\n",
            "Requirement already satisfied: torch in /usr/local/lib/python3.6/dist-packages (1.7.1+cu101)\n",
            "Requirement already satisfied: torchvision in /usr/local/lib/python3.6/dist-packages (0.8.2+cu101)\n",
            "Requirement already satisfied: dataclasses; python_version < \"3.7\" in /usr/local/lib/python3.6/dist-packages (from torch) (0.8)\n",
            "Requirement already satisfied: typing-extensions in /usr/local/lib/python3.6/dist-packages (from torch) (3.7.4.3)\n",
            "Requirement already satisfied: numpy in /usr/local/lib/python3.6/dist-packages (from torch) (1.19.5)\n",
            "Requirement already satisfied: pillow>=4.1.1 in /usr/local/lib/python3.6/dist-packages (from torchvision) (7.0.0)\n"
          ],
          "name": "stdout"
        }
      ]
    },
    {
      "cell_type": "code",
      "metadata": {
        "colab": {
          "base_uri": "https://localhost:8080/"
        },
        "id": "SPxuW_agD_b2",
        "outputId": "6066905b-ad63-42d7-b207-13de0dd30806"
      },
      "source": [
        "#!pip uninstall torch -y\n",
        "!pip install --pre torch+cu101 torchvision+cu101 -f https://download.pytorch.org/whl/nightly/cu100/torch_nightly.html"
      ],
      "execution_count": 20,
      "outputs": [
        {
          "output_type": "stream",
          "text": [
            "\u001b[31mERROR: Invalid requirement: 'torch+cu101'\u001b[0m\n"
          ],
          "name": "stdout"
        }
      ]
    },
    {
      "cell_type": "code",
      "metadata": {
        "colab": {
          "base_uri": "https://localhost:8080/"
        },
        "id": "hQMVHA6SRQZP",
        "outputId": "3164c6e1-07e5-40c7-fd2e-cc45cce48db0"
      },
      "source": [
        "!pip install torch==1.4.0+cu101 torchvision==0.6.0+cu101 -f https://download.pytorch.org/whl/torch_stable.html"
      ],
      "execution_count": 33,
      "outputs": [
        {
          "output_type": "stream",
          "text": [
            "Looking in links: https://download.pytorch.org/whl/torch_stable.html\n",
            "\u001b[31mERROR: Could not find a version that satisfies the requirement torch==1.4.0+cu101 (from versions: 0.1.2, 0.1.2.post1, 0.1.2.post2, 0.1.7.post2, 0.1.8.post1, 0.1.9.post1, 0.1.9.post2, 0.1.10.post1, 0.1.10.post2, 0.1.11.post4, 0.1.11.post5, 0.1.12.post1, 0.1.12.post2, 0.2.0.post1, 0.2.0.post2, 0.2.0.post3, 0.3.0, 0.3.0.post2, 0.3.0.post3, 0.3.0.post4, 0.3.1, 0.4.0, 0.4.1, 1.0.0, 1.0.1, 1.0.1.post2, 1.1.0, 1.2.0, 1.2.0+cpu, 1.2.0+cu92, 1.3.0, 1.3.0+cpu, 1.3.0+cu100, 1.3.0+cu92, 1.3.1, 1.3.1+cpu, 1.3.1+cu100, 1.3.1+cu92, 1.4.0, 1.4.0+cpu, 1.4.0+cu100, 1.4.0+cu92, 1.5.0, 1.5.0+cpu, 1.5.0+cu101, 1.5.0+cu92, 1.5.1, 1.5.1+cpu, 1.5.1+cu101, 1.5.1+cu92, 1.6.0, 1.6.0+cpu, 1.6.0+cu101, 1.6.0+cu92, 1.7.0, 1.7.0+cpu, 1.7.0+cu101, 1.7.0+cu110, 1.7.0+cu92, 1.7.1, 1.7.1+cpu, 1.7.1+cu101, 1.7.1+cu110, 1.7.1+cu92, 1.7.1+rocm3.7, 1.7.1+rocm3.8)\u001b[0m\n",
            "\u001b[31mERROR: No matching distribution found for torch==1.4.0+cu101\u001b[0m\n"
          ],
          "name": "stdout"
        }
      ]
    },
    {
      "cell_type": "code",
      "metadata": {
        "id": "Gme2txooOGW2"
      },
      "source": [
        "!pip install --upgrade torchvision>=0.6.0"
      ],
      "execution_count": 12,
      "outputs": []
    }
  ]
}